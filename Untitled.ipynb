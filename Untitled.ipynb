{
 "cells": [
  {
   "cell_type": "code",
   "execution_count": 3,
   "metadata": {},
   "outputs": [
    {
     "name": "stdout",
     "output_type": "stream",
     "text": [
      "enter the integer3 \n",
      "enter the integer5\n"
     ]
    },
    {
     "data": {
      "text/plain": [
       "8"
      ]
     },
     "execution_count": 3,
     "metadata": {},
     "output_type": "execute_result"
    }
   ],
   "source": [
    "##without parameters,with return type\n",
    "def add():\n",
    "    a=int(input(\"enter the integer\"))\n",
    "    b=int(input(\"enter the integer\"))\n",
    "    c=a+b\n",
    "    return c\n",
    "add()\n"
   ]
  },
  {
   "cell_type": "code",
   "execution_count": 7,
   "metadata": {},
   "outputs": [
    {
     "name": "stdout",
     "output_type": "stream",
     "text": [
      "13\n"
     ]
    }
   ],
   "source": [
    "##with parameters,without return type\n",
    "def add(a,b):\n",
    "    c=a+b\n",
    "    print(c)\n",
    "add(5,8)"
   ]
  },
  {
   "cell_type": "code",
   "execution_count": 8,
   "metadata": {},
   "outputs": [
    {
     "data": {
      "text/plain": [
       "15"
      ]
     },
     "execution_count": 8,
     "metadata": {},
     "output_type": "execute_result"
    }
   ],
   "source": [
    "##with parameters,return type\n",
    "def add(a,b):\n",
    "    c=a+b\n",
    "    return c\n",
    "add(7,8)"
   ]
  },
  {
   "cell_type": "code",
   "execution_count": 8,
   "metadata": {},
   "outputs": [
    {
     "name": "stdout",
     "output_type": "stream",
     "text": [
      "6  yes\n",
      "12  yes\n",
      "18  yes\n",
      "24  yes\n",
      "30  yes\n",
      "36  yes\n",
      "42  yes\n",
      "48  yes\n",
      "54  yes\n",
      "60  yes\n",
      "66  yes\n",
      "72  yes\n",
      "78  yes\n",
      "84  yes\n",
      "90  yes\n",
      "96  yes\n"
     ]
    }
   ],
   "source": [
    "#for divisible 6 but not by 100\n",
    "def divi(lb,ub):\n",
    "    for i in range(lb,ub):\n",
    "        if((i%6==0)and(100%i!=0)):\n",
    "            print(i,\" yes\")\n",
    "        \n",
    "         \n",
    "            \n",
    "divi(2,102)\n",
    "  "
   ]
  },
  {
   "cell_type": "code",
   "execution_count": 23,
   "metadata": {},
   "outputs": [
    {
     "data": {
      "text/plain": [
       "96.0"
      ]
     },
     "execution_count": 23,
     "metadata": {},
     "output_type": "execute_result"
    }
   ],
   "source": [
    "#averege of cubes in the given range\n",
    "def avgcub(lb,ub):\n",
    "    sum=0\n",
    "    count=0\n",
    "    for i in range(lb,ub):\n",
    "           if(i%2==0):\n",
    "                cub=i**3\n",
    "                sum=sum+cub\n",
    "                count=count+1\n",
    "    return sum/count\n",
    "avgcub(2,8)"
   ]
  },
  {
   "cell_type": "code",
   "execution_count": 25,
   "metadata": {},
   "outputs": [
    {
     "name": "stdout",
     "output_type": "stream",
     "text": [
      "1\n",
      "2\n",
      "3\n"
     ]
    }
   ],
   "source": [
    "#factors of the given number\n",
    "def fact(n):\n",
    "    for i in range(1,n):\n",
    "        if(n%i==0):\n",
    "            print(i)\n",
    "fact(6)            "
   ]
  },
  {
   "cell_type": "code",
   "execution_count": 2,
   "metadata": {},
   "outputs": [
    {
     "name": "stdout",
     "output_type": "stream",
     "text": [
      "5  is not a prime  number \n"
     ]
    }
   ],
   "source": [
    "#prime or not\n",
    "def prime(n):\n",
    "    count=0\n",
    "    for\n",
    "    for i in range(2,n+1):\n",
    "        if(n%i==0):\n",
    "            count=count+1\n",
    "    if(count==2):\n",
    "        print(i,\" is a prime number\")\n",
    "    else:\n",
    "        print(i,\" is not a prime  number \")\n",
    "prime(5)"
   ]
  },
  {
   "cell_type": "code",
   "execution_count": 7,
   "metadata": {},
   "outputs": [
    {
     "name": "stdout",
     "output_type": "stream",
     "text": [
      "15  is a prime number\n",
      "15  is not a prime  number \n",
      "15  is not a prime  number \n",
      "15  is not a prime  number \n",
      "15  is not a prime  number \n",
      "15  is not a prime  number \n",
      "15  is not a prime  number \n",
      "15  is not a prime  number \n",
      "15  is not a prime  number \n",
      "15  is not a prime  number \n"
     ]
    }
   ],
   "source": [
    "#average of n prime numbers\n",
    "def avgprime(lb,ub):\n",
    "    count=0\n",
    "    n=ub\n",
    "    for j in range(lb,ub):\n",
    "    \n",
    "    \n",
    "        for i in range(lb,n+1):\n",
    "            if(n%i==0):\n",
    "                count=count+1\n",
    "        if(count==2):\n",
    "            print(i,\" is a prime number\")\n",
    "        else:\n",
    "            print(i,\" is not a prime number\")\n",
    "avgprime(5,15)"
   ]
  },
  {
   "cell_type": "code",
   "execution_count": 3,
   "metadata": {},
   "outputs": [
    {
     "name": "stdout",
     "output_type": "stream",
     "text": [
      "2\n",
      "4\n",
      "6\n",
      "8\n",
      "2\n",
      "4\n",
      "6\n",
      "8\n",
      "2\n",
      "4\n",
      "6\n",
      "8\n",
      "2\n",
      "4\n",
      "6\n",
      "8\n",
      "2\n",
      "4\n",
      "6\n",
      "8\n",
      "2\n",
      "4\n",
      "6\n",
      "8\n",
      "2\n",
      "4\n",
      "6\n",
      "8\n",
      "2\n",
      "4\n",
      "6\n",
      "8\n",
      "2\n",
      "4\n",
      "6\n",
      "8\n"
     ]
    }
   ],
   "source": [
    "def inrange(l,u):\n",
    "    \n",
    "    for i in range(l,u):\n",
    "        for j in range(1,u):\n",
    "            if(j%2==0):\n",
    "                print(j)\n",
    "            \n",
    "inrange(1,10)"
   ]
  },
  {
   "cell_type": "code",
   "execution_count": null,
   "metadata": {},
   "outputs": [],
   "source": []
  },
  {
   "cell_type": "code",
   "execution_count": null,
   "metadata": {},
   "outputs": [],
   "source": []
  }
 ],
 "metadata": {
  "kernelspec": {
   "display_name": "Python 3",
   "language": "python",
   "name": "python3"
  },
  "language_info": {
   "codemirror_mode": {
    "name": "ipython",
    "version": 3
   },
   "file_extension": ".py",
   "mimetype": "text/x-python",
   "name": "python",
   "nbconvert_exporter": "python",
   "pygments_lexer": "ipython3",
   "version": "3.7.3"
  }
 },
 "nbformat": 4,
 "nbformat_minor": 2
}
