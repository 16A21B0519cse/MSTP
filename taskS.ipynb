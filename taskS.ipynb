{
 "cells": [
  {
   "cell_type": "code",
   "execution_count": 2,
   "metadata": {},
   "outputs": [
    {
     "name": "stdout",
     "output_type": "stream",
     "text": [
      "Enter upper limit: 15\n",
      "2\n",
      "3\n",
      "5\n",
      "7\n",
      "11\n",
      "13\n"
     ]
    }
   ],
   "source": [
    "# write the first 15 prime number.\n",
    "r=int(input(\"Enter upper limit: \"))\n",
    "for a in range(2,r+1):\n",
    "    k=0\n",
    "    for i in range(2,a//2+1):\n",
    "        if(a%i==0):\n",
    "            k=k+1\n",
    "    if(k<=0):\n",
    "        print(a)"
   ]
  },
  {
   "cell_type": "code",
   "execution_count": 3,
   "metadata": {},
   "outputs": [
    {
     "name": "stdout",
     "output_type": "stream",
     "text": [
      "5\n",
      "120\n"
     ]
    }
   ],
   "source": [
    "# print the  factorial\n",
    "num=int(input(\"\"))\n",
    "fact=1\n",
    "s=1\n",
    "for i in range (1,num+1):\n",
    "    fac=fact*i\n",
    "    s=s*fac\n",
    "print(s)\n"
   ]
  },
  {
   "cell_type": "code",
   "execution_count": 4,
   "metadata": {},
   "outputs": [
    {
     "name": "stdout",
     "output_type": "stream",
     "text": [
      "enter the number4\n",
      "2.0\n"
     ]
    }
   ],
   "source": [
    "#program to find square root\n",
    "import math\n",
    "\n",
    "num=int(input(\"enter the number\"))\n",
    "a=math.sqrt(num)\n",
    "print(a)"
   ]
  },
  {
   "cell_type": "code",
   "execution_count": 5,
   "metadata": {},
   "outputs": [
    {
     "name": "stdout",
     "output_type": "stream",
     "text": [
      "enter the number4\n",
      "2.0\n"
     ]
    }
   ],
   "source": [
    "#program to get square root without predefined function \n",
    "num=int(input(\"enter the number\"))\n",
    "a=(num)**1/2\n",
    "print(a)"
   ]
  },
  {
   "cell_type": "code",
   "execution_count": 6,
   "metadata": {},
   "outputs": [
    {
     "name": "stdout",
     "output_type": "stream",
     "text": [
      "enter the lower bound1\n",
      "enter the upper bound10\n",
      "enter the number5\n",
      "yes\n"
     ]
    }
   ],
   "source": [
    "# program to checked in  a range\n",
    "lower=int(input(\"enter the lower bound\"))\n",
    "upper=int(input(\"enter the upper bound\"))\n",
    "num=int(input(\"enter the number\"))\n",
    "if (lower<num<upper):\n",
    "    print(\"yes\")\n",
    "else:\n",
    "    print(\"no\")"
   ]
  },
  {
   "cell_type": "code",
   "execution_count": 7,
   "metadata": {},
   "outputs": [
    {
     "name": "stdout",
     "output_type": "stream",
     "text": [
      "enter the integer2\n",
      "2 yes\n"
     ]
    }
   ],
   "source": [
    "# program to 1000 factors\n",
    "num=int(input(\"enter the integer\"))\n",
    "if 1000 % num==0:\n",
    "    print(num,\"yes\")\n",
    "else:\n",
    "    print(num,\"no\")"
   ]
  },
  {
   "cell_type": "code",
   "execution_count": 9,
   "metadata": {},
   "outputs": [
    {
     "name": "stdout",
     "output_type": "stream",
     "text": [
      "enter the integer1234\n",
      "4\n"
     ]
    }
   ],
   "source": [
    "num=int(input(\"enter the integer\"))\n",
    "print(len(str(num)))\n"
   ]
  },
  {
   "cell_type": "code",
   "execution_count": 21,
   "metadata": {},
   "outputs": [
    {
     "name": "stdout",
     "output_type": "stream",
     "text": [
      "enter the integer1234\n",
      "1234\n",
      "8\n"
     ]
    },
    {
     "data": {
      "text/plain": [
       "154.25"
      ]
     },
     "execution_count": 21,
     "metadata": {},
     "output_type": "execute_result"
    }
   ],
   "source": [
    "#count the number of input char which was given in a single line\n",
    "sum=0\n",
    "num=(input(\"enter the integer\"))\n",
    "num=num.split()\n",
    "for i in num:\n",
    "    sum=sum+int(i)\n",
    "print (sum)\n",
    "print(len(str(num)))\n",
    "n=len(str(num))\n",
    "avg=sum/n\n",
    "avg"
   ]
  },
  {
   "cell_type": "code",
   "execution_count": 22,
   "metadata": {},
   "outputs": [
    {
     "data": {
      "text/plain": [
       "97"
      ]
     },
     "execution_count": 22,
     "metadata": {},
     "output_type": "execute_result"
    }
   ],
   "source": [
    "\"compare two string\"\n",
    "s1=(input(\"enter the string\"))\n",
    "\n",
    "s2=(input(\"enter the string\"))\n",
    "\n",
    "if sorted(s1)==sorted(s2):\n",
    "   print(\"yes\")\n",
    "else:\n",
    "    print(\"no\")\n",
    "\n"
   ]
  },
  {
   "cell_type": "code",
   "execution_count": null,
   "metadata": {},
   "outputs": [],
   "source": [
    "###ISBN:1*digit1+2*digit2+3*digit3+4*digit4+5*digit5+6*digit6+7*digit7+8*digit8+9*digit9+10*digit10 should be divisible by 11\n",
    "num=int(input())\n",
    "i=10\n",
    "sum=0\n",
    "while(num!=0):\n",
    "    r=num%10\n",
    "    sum=sum+(i*r)\n",
    "    num=num//10\n",
    "    i=i-1\n",
    "if(sum%11==0):\n",
    "    print(\"is divisible\")\n",
    "else:\n",
    "    print(\"not divisible\")\n",
    "\n"
   ]
  },
  {
   "cell_type": "code",
   "execution_count": 1,
   "metadata": {},
   "outputs": [
    {
     "name": "stdout",
     "output_type": "stream",
     "text": [
      "enter the integer 4 / 2\n",
      "['4', '/', '2']\n",
      "2\n"
     ]
    }
   ],
   "source": [
    "##27-aug-2019\n",
    "##take two operands and operator in single line\n",
    "num=(input(\"enter the integer\"))\n",
    "num=num.split()\n",
    "print(num)\n",
    "if num[1]=='+':\n",
    "    print(int(num[0])+int(num[2]))\n",
    "elif num[1]=='-':\n",
    "    print(int(num[0])-int(num[2]))\n",
    "elif num[1]=='*':\n",
    "    print(int(num[0])*int(num[2]))\n",
    "elif num[1]=='/':\n",
    "    print(int(num[0])//int(num[2]))\n",
    "elif num[1]=='%':\n",
    "    print(int(num[0])%int(num[2]))"
   ]
  },
  {
   "cell_type": "code",
   "execution_count": 1,
   "metadata": {},
   "outputs": [
    {
     "name": "stdout",
     "output_type": "stream",
     "text": [
      "enter the integer22\n",
      "22\n",
      "enter the integer42\n"
     ]
    }
   ],
   "source": [
    "##27-aug-2019\n",
    "for i in range(1,100)\n",
    "    num=int(input(\"enter the integer\"))\n",
    "    if num==42:\n",
    "        break\n",
    "    else:\n",
    "        print(num)    "
   ]
  },
  {
   "cell_type": "code",
   "execution_count": 6,
   "metadata": {},
   "outputs": [
    {
     "ename": "IndentationError",
     "evalue": "unindent does not match any outer indentation level (<tokenize>, line 3)",
     "output_type": "error",
     "traceback": [
      "\u001b[1;36m  File \u001b[1;32m\"<tokenize>\"\u001b[1;36m, line \u001b[1;32m3\u001b[0m\n\u001b[1;33m    if num!=42:\u001b[0m\n\u001b[1;37m    ^\u001b[0m\n\u001b[1;31mIndentationError\u001b[0m\u001b[1;31m:\u001b[0m unindent does not match any outer indentation level\n"
     ]
    }
   ],
   "source": []
  },
  {
   "cell_type": "code",
   "execution_count": 3,
   "metadata": {},
   "outputs": [
    {
     "name": "stdout",
     "output_type": "stream",
     "text": [
      "enter the width200\n",
      "enter the height300\n",
      "have to crop the image\n",
      "you have to crop 20 in the width\n",
      "you have to crop 120 in the height\n"
     ]
    }
   ],
   "source": [
    "##27-aug-2019\n",
    "#upload profile pic\n",
    "l=180\n",
    "w=int(input(\"enter the width\"))\n",
    "h=int(input(\"enter the height\"))\n",
    "\n",
    "if(l==w==h):\n",
    "    print(\"your photo is upto the mark\")\n",
    "elif((w<l)|(h<l)):\n",
    "    print(\"upload another photo\")\n",
    "elif((w>l)|(h>l)):\n",
    "    print(\"have to crop the image\")\n",
    "    if((w>l)and(l==h)):\n",
    "        wi=w-l\n",
    "        print(\"you have to crop\",+wi,\"in the width\")\n",
    "    elif((l==w)and(h>l)):\n",
    "        hi=h-l\n",
    "        print(\"you have to crop\",+hi,\"in the height\")\n",
    "    elif((w>l)and(h>l)):\n",
    "        wi=w-l\n",
    "        print(\"you have to crop\",+wi,\"in the width\")\n",
    "        hi=h-l\n",
    "        print(\"you have to crop\",+hi,\"in the height\")\n",
    "        "
   ]
  },
  {
   "cell_type": "code",
   "execution_count": 6,
   "metadata": {},
   "outputs": [
    {
     "name": "stdout",
     "output_type": "stream",
     "text": [
      "6\n"
     ]
    }
   ],
   "source": []
  },
  {
   "cell_type": "code",
   "execution_count": null,
   "metadata": {},
   "outputs": [],
   "source": [
    "def fact():\n",
    "    q"
   ]
  }
 ],
 "metadata": {
  "kernelspec": {
   "display_name": "Python 3",
   "language": "python",
   "name": "python3"
  }
 },
 "nbformat": 4,
 "nbformat_minor": 2
}
