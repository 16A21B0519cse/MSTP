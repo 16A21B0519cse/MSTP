{
 "cells": [
  {
   "cell_type": "code",
   "execution_count": 88,
   "metadata": {},
   "outputs": [
    {
     "name": "stdout",
     "output_type": "stream",
     "text": [
      "Enter upper limit: \n"
     ]
    },
    {
     "ename": "ValueError",
     "evalue": "invalid literal for int() with base 10: ''",
     "output_type": "error",
     "traceback": [
      "\u001b[1;31m---------------------------------------------------------------------------\u001b[0m",
      "\u001b[1;31mValueError\u001b[0m                                Traceback (most recent call last)",
      "\u001b[1;32m<ipython-input-88-ecb3dfee4f65>\u001b[0m in \u001b[0;36m<module>\u001b[1;34m\u001b[0m\n\u001b[0;32m      1\u001b[0m \u001b[1;31m# write the first 15 prime number.\u001b[0m\u001b[1;33m\u001b[0m\u001b[1;33m\u001b[0m\u001b[1;33m\u001b[0m\u001b[0m\n\u001b[1;32m----> 2\u001b[1;33m \u001b[0mr\u001b[0m\u001b[1;33m=\u001b[0m\u001b[0mint\u001b[0m\u001b[1;33m(\u001b[0m\u001b[0minput\u001b[0m\u001b[1;33m(\u001b[0m\u001b[1;34m\"Enter upper limit: \"\u001b[0m\u001b[1;33m)\u001b[0m\u001b[1;33m)\u001b[0m\u001b[1;33m\u001b[0m\u001b[1;33m\u001b[0m\u001b[0m\n\u001b[0m\u001b[0;32m      3\u001b[0m \u001b[1;32mfor\u001b[0m \u001b[0ma\u001b[0m \u001b[1;32min\u001b[0m \u001b[0mrange\u001b[0m\u001b[1;33m(\u001b[0m\u001b[1;36m2\u001b[0m\u001b[1;33m,\u001b[0m\u001b[0mr\u001b[0m\u001b[1;33m+\u001b[0m\u001b[1;36m1\u001b[0m\u001b[1;33m)\u001b[0m\u001b[1;33m:\u001b[0m\u001b[1;33m\u001b[0m\u001b[1;33m\u001b[0m\u001b[0m\n\u001b[0;32m      4\u001b[0m     \u001b[0mk\u001b[0m\u001b[1;33m=\u001b[0m\u001b[1;36m0\u001b[0m\u001b[1;33m\u001b[0m\u001b[1;33m\u001b[0m\u001b[0m\n\u001b[0;32m      5\u001b[0m     \u001b[1;32mfor\u001b[0m \u001b[0mi\u001b[0m \u001b[1;32min\u001b[0m \u001b[0mrange\u001b[0m\u001b[1;33m(\u001b[0m\u001b[1;36m2\u001b[0m\u001b[1;33m,\u001b[0m\u001b[0ma\u001b[0m\u001b[1;33m//\u001b[0m\u001b[1;36m2\u001b[0m\u001b[1;33m+\u001b[0m\u001b[1;36m1\u001b[0m\u001b[1;33m)\u001b[0m\u001b[1;33m:\u001b[0m\u001b[1;33m\u001b[0m\u001b[1;33m\u001b[0m\u001b[0m\n",
      "\u001b[1;31mValueError\u001b[0m: invalid literal for int() with base 10: ''"
     ]
    }
   ],
   "source": [
    "# write the first 15 prime number.\n",
    "r=int(input(\"Enter upper limit: \"))\n",
    "for a in range(2,r+1):\n",
    "    k=0\n",
    "    for i in range(2,a//2+1):\n",
    "        if(a%i==0):\n",
    "            k=k+1\n",
    "    if(k<=0):\n",
    "        print(a)"
   ]
  },
  {
   "cell_type": "code",
   "execution_count": null,
   "metadata": {},
   "outputs": [],
   "source": [
    "# print the  factorial\n",
    "num=int(input(\"\"))\n",
    "fact=1\n",
    "s=1\n",
    "for i in range (1,num+1):\n",
    "    fac=fact*i\n",
    "    s=s*fac\n",
    "print(s)\n"
   ]
  },
  {
   "cell_type": "code",
   "execution_count": null,
   "metadata": {},
   "outputs": [],
   "source": [
    "#program to find square root\n",
    "import math\n",
    "\n",
    "num=int(input(\"enter the number\"))\n",
    "a=math.sqrt(num)\n",
    "print(a)"
   ]
  },
  {
   "cell_type": "code",
   "execution_count": null,
   "metadata": {},
   "outputs": [],
   "source": [
    "#program to get square root without predefined function \n",
    "num=int(input(\"enter the number\"))\n",
    "a=(num)**1/2\n",
    "print(a)"
   ]
  },
  {
   "cell_type": "code",
   "execution_count": null,
   "metadata": {},
   "outputs": [],
   "source": [
    "# program to checked in  a range\n",
    "lower=int(input(\"enter the lower bound\"))\n",
    "upper=int(input(\"enter the upper bound\"))\n",
    "num=int(input(\"enter the number\"))\n",
    "if (lower<num<upper):\n",
    "    print(\"yes\")\n",
    "else:\n",
    "    print(\"no\")"
   ]
  },
  {
   "cell_type": "code",
   "execution_count": null,
   "metadata": {},
   "outputs": [],
   "source": [
    "# program to 1000 factors\n",
    "num=int(input(\"enter the integer\"))\n",
    "if 1000 % num==0:\n",
    "    print(num,\"yes\")\n",
    "else:\n",
    "    print(num,\"no\")"
   ]
  },
  {
   "cell_type": "code",
   "execution_count": null,
   "metadata": {},
   "outputs": [],
   "source": [
    "num=int(input(\"enter the integer\"))\n",
    "print(len(str(num)))\n"
   ]
  },
  {
   "cell_type": "code",
   "execution_count": null,
   "metadata": {},
   "outputs": [],
   "source": [
    "#count the number of input char which was given in a single line\n",
    "sum=0\n",
    "num=(input(\"enter the integer\"))\n",
    "num=num.split()\n",
    "for i in num:\n",
    "    sum=sum+int(i)\n",
    "print (sum)\n",
    "print(len(str(num)))\n",
    "n=len(str(num))\n",
    "avg=sum/n\n",
    "avg"
   ]
  },
  {
   "cell_type": "code",
   "execution_count": null,
   "metadata": {},
   "outputs": [],
   "source": [
    "\"compare two string\"\n",
    "s1=(input(\"enter the string\"))\n",
    "\n",
    "s2=(input(\"enter the string\"))\n",
    "\n",
    "if sorted(s1)==sorted(s2):\n",
    "   print(\"yes\")\n",
    "else:\n",
    "    print(\"no\")\n",
    "\n"
   ]
  },
  {
   "cell_type": "code",
   "execution_count": null,
   "metadata": {},
   "outputs": [],
   "source": [
    "###ISBN:1*digit1+2*digit2+3*digit3+4*digit4+5*digit5+6*digit6+7*digit7+8*digit8+9*digit9+10*digit10 should be divisible by 11\n",
    "num=int(input())\n",
    "i=10\n",
    "sum=0\n",
    "while(num!=0):\n",
    "    r=num%10\n",
    "    sum=sum+(i*r)\n",
    "    num=num//10\n",
    "    i=i-1\n",
    "if(sum%11==0):\n",
    "    print(\"is divisible\")\n",
    "else:\n",
    "    print(\"not divisible\")\n",
    "\n"
   ]
  },
  {
   "cell_type": "code",
   "execution_count": null,
   "metadata": {},
   "outputs": [],
   "source": [
    "##27-aug-2019\n",
    "##take two operands and operator in single line\n",
    "num=(input(\"enter the integer\"))\n",
    "num=num.split()\n",
    "print(num)\n",
    "if num[1]=='+':\n",
    "    print(int(num[0])+int(num[2]))\n",
    "elif num[1]=='-':\n",
    "    print(int(num[0])-int(num[2]))\n",
    "elif num[1]=='*':\n",
    "    print(int(num[0])*int(num[2]))\n",
    "elif num[1]=='/':\n",
    "    print(int(num[0])//int(num[2]))\n",
    "elif num[1]=='%':\n",
    "    print(int(num[0])%int(num[2]))"
   ]
  },
  {
   "cell_type": "code",
   "execution_count": null,
   "metadata": {},
   "outputs": [],
   "source": [
    "##27-aug-2019\n",
    "for i in range(1,100)\n",
    "    num=int(input(\"enter the integer\"))\n",
    "    if num==42:\n",
    "        break\n",
    "    else:\n",
    "        print(num)    "
   ]
  },
  {
   "cell_type": "code",
   "execution_count": null,
   "metadata": {},
   "outputs": [],
   "source": []
  },
  {
   "cell_type": "code",
   "execution_count": null,
   "metadata": {},
   "outputs": [],
   "source": [
    "##27-aug-2019\n",
    "#upload profile pic\n",
    "l=180\n",
    "w=int(input(\"enter the width\"))\n",
    "h=int(input(\"enter the height\"))\n",
    "\n",
    "if(l==w==h):\n",
    "    print(\"your photo is upto the mark\")\n",
    "elif((w<l)|(h<l)):\n",
    "    print(\"upload another photo\")\n",
    "elif((w>l)|(h>l)):\n",
    "    print(\"have to crop the image\")\n",
    "    if((w>l)and(l==h)):\n",
    "        wi=w-l\n",
    "        print(\"you have to crop\",+wi,\"in the width\")\n",
    "    elif((l==w)and(h>l)):\n",
    "        hi=h-l\n",
    "        print(\"you have to crop\",+hi,\"in the height\")\n",
    "    elif((w>l)and(h>l)):\n",
    "        wi=w-l\n",
    "        print(\"you have to crop\",+wi,\"in the width\")\n",
    "        hi=h-l\n",
    "        print(\"you have to crop\",+hi,\"in the height\")\n",
    "        "
   ]
  },
  {
   "cell_type": "code",
   "execution_count": null,
   "metadata": {},
   "outputs": [],
   "source": [
    "def fact(n):\n",
    "    c=1\n",
    "\n",
    "    for i in range(1,n):\n",
    "        f=i*n\n",
    "        c=c*f\n",
    "        return c\n",
    "fact(6)\n",
    "        "
   ]
  },
  {
   "cell_type": "code",
   "execution_count": null,
   "metadata": {},
   "outputs": [],
   "source": [
    "#average of the firsrt prime\n",
    "def avgfirstnprime(n):\n",
    "    i=1\n",
    "    x=2\n",
    "    s=0\n",
    "    flag=0\n",
    "    while i<=n:\n",
    "        for j in range(2,x):\n",
    "            if(x%j==0):\n",
    "                flag+=1\n",
    "        if(flag==0):\n",
    "            i+=1\n",
    "            s+=x\n",
    "            x+=1\n",
    "        else:\n",
    "            x=x+1\n",
    "            flag=0\n",
    "    return s/n\n",
    "n=int(input('enter a number'))\n",
    "print(avgfirstnprime(n))  \n",
    "\n"
   ]
  },
  {
   "cell_type": "code",
   "execution_count": null,
   "metadata": {},
   "outputs": [],
   "source": [
    "#perfect number\n",
    "def perfectnum(l,u):\n",
    "    s=0\n",
    "    for i in range(l,u+1):\n",
    "        for j in range(1,i):\n",
    "            if(i%j==0):\n",
    "                s+=j\n",
    "        if(s==i):\n",
    "            print(i)\n",
    "        s=0\n",
    "perfectnum(10,30)"
   ]
  },
  {
   "cell_type": "markdown",
   "metadata": {},
   "source": [
    "# 5-9-2019"
   ]
  },
  {
   "cell_type": "code",
   "execution_count": null,
   "metadata": {},
   "outputs": [],
   "source": [
    "#create function for mobile number validator\n",
    "import re\n",
    "def mobile(num):\n",
    "    if(re.search('^[7-9]\\d{9}$',num)):\n",
    "        print(\"yes valid\")\n",
    "    else:\n",
    "        print(\"no invalid\")\n",
    "num=input(\"enter the mobile number\")\n",
    "mobile(num)"
   ]
  },
  {
   "cell_type": "code",
   "execution_count": null,
   "metadata": {},
   "outputs": [],
   "source": [
    "#create the function for person name validator\n",
    "import re\n",
    "def person_name(name):\n",
    "    if(re.search('^[A-Za-z]+[ .]{0,1}[A-Za-z]+[.]{1}$',name)):\n",
    "        print(\"true\")\n",
    "    else:\n",
    "        print(\"false\")\n",
    "        \n",
    "name=input(\"enter the name\")\n",
    "person_name(name)"
   ]
  },
  {
   "cell_type": "markdown",
   "metadata": {},
   "source": [
    "# write the content from one to another "
   ]
  },
  {
   "cell_type": "code",
   "execution_count": null,
   "metadata": {},
   "outputs": [],
   "source": [
    "f1=open('book.txt','r')\n",
    "f2=open('note.txt','w')\n",
    "data=f1.read()\n",
    "f2.write(data)\n",
    "f2.close()\n",
    "f1.close()"
   ]
  },
  {
   "cell_type": "markdown",
   "metadata": {},
   "source": []
  },
  {
   "cell_type": "code",
   "execution_count": null,
   "metadata": {},
   "outputs": [],
   "source": [
    "f1=open('note.txt','r')\n",
    "count=0\n",
    "for l in f1:\n",
    "     print(l)\n",
    "    \n",
    "f1.close()\n",
    "\n"
   ]
  },
  {
   "cell_type": "code",
   "execution_count": null,
   "metadata": {},
   "outputs": [],
   "source": [
    "f1=open('note.txt','r')\n",
    "count=0\n",
    "for l in f1:\n",
    "    print(l)\n",
    "    count=count+1\n",
    "    \n",
    "f1.close()\n",
    "print(count)"
   ]
  },
  {
   "cell_type": "code",
   "execution_count": null,
   "metadata": {},
   "outputs": [],
   "source": [
    "f1=open('note.txt','r')\n",
    "count=0\n",
    "for l in f1:\n",
    "    count=count+1\n",
    "    if(count==3):\n",
    "        print(l)\n",
    "f1.close()"
   ]
  },
  {
   "cell_type": "code",
   "execution_count": null,
   "metadata": {},
   "outputs": [],
   "source": [
    "f1=open('note.txt','r')\n",
    "count=0\n",
    "for l in f1:\n",
    "    count=count+1\n",
    "    if(count==3):\n",
    "        \n",
    "        print(l[-2])\n",
    "f1.close()"
   ]
  },
  {
   "cell_type": "code",
   "execution_count": null,
   "metadata": {},
   "outputs": [],
   "source": [
    "f1=open('note.txt','r')\n",
    "count=0\n",
    "number=0\n",
    "for l in f1:\n",
    "    number=number+len(l)\n",
    "print(number)        \n",
    "f1.close()"
   ]
  },
  {
   "cell_type": "code",
   "execution_count": null,
   "metadata": {},
   "outputs": [],
   "source": [
    "f1=open('note.txt','r')\n",
    "count=0\n",
    "number=0\n",
    "ch=input('')\n",
    "for l in f1:\n",
    "       for j in l:\n",
    "            count=count+1\n",
    "            if(j==ch):\n",
    "                print(count)\n",
    "f1.close()"
   ]
  },
  {
   "cell_type": "code",
   "execution_count": null,
   "metadata": {},
   "outputs": [],
   "source": [
    "import re\n",
    "f1=open('note.txt','r')\n",
    "count=0\n",
    "number=0\n",
    "for l in f1:                                               \n",
    "    if('0'<=l<='9'):\n",
    "        print(l)\n",
    "f1.close()"
   ]
  },
  {
   "cell_type": "code",
   "execution_count": null,
   "metadata": {},
   "outputs": [],
   "source": [
    "def replaceword(filename,newname,oldname):\n",
    "    fh=open(filename,'r')\n",
    "    data=fh.read()\n",
    "    data=data.replace(newname,oldname)\n",
    "    fh.close()\n",
    "    fh=open(filename,'w')\n",
    "    fh.write(data)\n",
    "    fh.close()\n",
    "    "
   ]
  },
  {
   "cell_type": "code",
   "execution_count": null,
   "metadata": {},
   "outputs": [],
   "source": [
    "replaceword('book.txt','row',' ')"
   ]
  },
  {
   "cell_type": "markdown",
   "metadata": {},
   "source": [
    "# 6-9-2019"
   ]
  },
  {
   "cell_type": "code",
   "execution_count": 107,
   "metadata": {},
   "outputs": [
    {
     "name": "stdout",
     "output_type": "stream",
     "text": [
      "150\n",
      "110\n",
      "180\n"
     ]
    }
   ],
   "source": [
    "fh1=open('marks.txt','r')\n",
    "fh2=open('marks_total','w')\n",
    "count=0\n",
    "for line in fh1:\n",
    "    count=count+1\n",
    "    if(count==1):\n",
    "        fh2.write(line.strip()+'\\ttotal')\n",
    "    else:\n",
    "        c=(line.split()[2:])\n",
    "        total_marks=[]\n",
    "        for line1 in c:\n",
    "            total_marks.append(int(line1))\n",
    "        c=sum(total_marks)\n",
    "        print(c)\n",
    "        \n"
   ]
  },
  {
   "cell_type": "code",
   "execution_count": 89,
   "metadata": {},
   "outputs": [
    {
     "data": {
      "text/plain": [
       "['90', '90']"
      ]
     },
     "execution_count": 89,
     "metadata": {},
     "output_type": "execute_result"
    }
   ],
   "source": [
    "line.split()[2:]"
   ]
  },
  {
   "cell_type": "code",
   "execution_count": 90,
   "metadata": {},
   "outputs": [
    {
     "data": {
      "text/plain": [
       "'hjkllhgf'"
      ]
     },
     "execution_count": 90,
     "metadata": {},
     "output_type": "execute_result"
    }
   ],
   "source": [
    "name='hjkllhgf'\n",
    "name.strip('jk')"
   ]
  },
  {
   "cell_type": "code",
   "execution_count": null,
   "metadata": {},
   "outputs": [],
   "source": []
  },
  {
   "cell_type": "code",
   "execution_count": null,
   "metadata": {},
   "outputs": [],
   "source": []
  },
  {
   "cell_type": "code",
   "execution_count": null,
   "metadata": {},
   "outputs": [],
   "source": []
  },
  {
   "cell_type": "code",
   "execution_count": null,
   "metadata": {},
   "outputs": [],
   "source": []
  },
  {
   "cell_type": "code",
   "execution_count": null,
   "metadata": {},
   "outputs": [],
   "source": []
  },
  {
   "cell_type": "code",
   "execution_count": null,
   "metadata": {},
   "outputs": [],
   "source": []
  },
  {
   "cell_type": "code",
   "execution_count": null,
   "metadata": {},
   "outputs": [],
   "source": []
  },
  {
   "cell_type": "code",
   "execution_count": null,
   "metadata": {},
   "outputs": [],
   "source": []
  },
  {
   "cell_type": "code",
   "execution_count": null,
   "metadata": {},
   "outputs": [],
   "source": []
  },
  {
   "cell_type": "code",
   "execution_count": null,
   "metadata": {},
   "outputs": [],
   "source": []
  },
  {
   "cell_type": "code",
   "execution_count": null,
   "metadata": {},
   "outputs": [],
   "source": []
  },
  {
   "cell_type": "code",
   "execution_count": null,
   "metadata": {},
   "outputs": [],
   "source": []
  },
  {
   "cell_type": "code",
   "execution_count": null,
   "metadata": {},
   "outputs": [],
   "source": []
  },
  {
   "cell_type": "code",
   "execution_count": null,
   "metadata": {},
   "outputs": [],
   "source": []
  },
  {
   "cell_type": "code",
   "execution_count": null,
   "metadata": {},
   "outputs": [],
   "source": []
  }
 ],
 "metadata": {
  "kernelspec": {
   "display_name": "Python 3",
   "language": "python",
   "name": "python3"
  },
  "language_info": {
   "codemirror_mode": {
    "name": "ipython",
    "version": 3
   },
   "file_extension": ".py",
   "mimetype": "text/x-python",
   "name": "python",
   "nbconvert_exporter": "python",
   "pygments_lexer": "ipython3",
   "version": "3.7.3"
  }
 },
 "nbformat": 4,
 "nbformat_minor": 2
}
